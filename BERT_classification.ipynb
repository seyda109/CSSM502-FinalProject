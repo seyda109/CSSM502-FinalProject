{
  "nbformat": 4,
  "nbformat_minor": 0,
  "metadata": {
    "colab": {
      "provenance": []
    },
    "kernelspec": {
      "name": "python3",
      "display_name": "Python 3"
    },
    "language_info": {
      "name": "python"
    }
  },
  "cells": [
    {
      "cell_type": "markdown",
      "source": [
        "# Sentiment Classification with BERT"
      ],
      "metadata": {
        "id": "CC7d8vv5fV24"
      }
    },
    {
      "cell_type": "code",
      "source": [
        "\n",
        "# installing the library 'transformers' which contains BERT implementation\n",
        "!pip install transformers\n",
        " \n",
        "# installing the library tensorflow\n",
        "!pip install tensorflow"
      ],
      "metadata": {
        "id": "KZ-nhCX6edG8"
      },
      "execution_count": 4,
      "outputs": []
    },
    {
      "cell_type": "code",
      "source": [
        "\n",
        "# importing the pipeline module\n",
        "from transformers import pipeline\n",
        " \n",
        "# Downloading the sentiment analysis model\n",
        "SentimentClassifier = pipeline(\"sentiment-analysis\")"
      ],
      "metadata": {
        "id": "FT5efEBbe0Wo"
      },
      "execution_count": null,
      "outputs": []
    },
    {
      "cell_type": "code",
      "execution_count": 26,
      "metadata": {
        "id": "bBlADyqXeFxS"
      },
      "outputs": [],
      "source": [
        "\n",
        "import pandas as pd\n",
        "import numpy as np\n",
        " \n",
        "# Readingtweets data\n",
        "df=pd.read_csv('data_with_loc_info.csv')"
      ]
    },
    {
      "cell_type": "code",
      "source": [
        "df"
      ],
      "metadata": {
        "id": "kDVIJDmHwdu4"
      },
      "execution_count": null,
      "outputs": []
    },
    {
      "cell_type": "code",
      "source": [
        "'''LEMMATIZATION'''\n",
        "import nltk\n",
        "nltk.download('all')\n",
        "from nltk.stem import WordNetLemmatizer\n",
        "lemmatizer = WordNetLemmatizer()\n",
        "def lemmatize_words(text):\n",
        "    text= str(text)\n",
        "    words = text.split()\n",
        "    words = [lemmatizer.lemmatize(word,pos='v') for word in words]\n",
        "    return ' '.join(words)\n",
        "df['Lemmas'] = df['cleanedTweets'].apply(lemmatize_words)"
      ],
      "metadata": {
        "id": "JA61jvsmwlIR"
      },
      "execution_count": null,
      "outputs": []
    },
    {
      "cell_type": "code",
      "source": [
        "\n",
        "# Defining a function to call for the whole dataframe\n",
        "def BERTSentiment(inpText):\n",
        "  return(SentimentClassifier(inpText)[0]['label'])"
      ],
      "metadata": {
        "id": "iyB82GdDepwy"
      },
      "execution_count": 31,
      "outputs": []
    },
    {
      "cell_type": "code",
      "source": [
        "data=df['Lemmas']\n"
      ],
      "metadata": {
        "id": "LzjwJ4lGlnT4"
      },
      "execution_count": 32,
      "outputs": []
    },
    {
      "cell_type": "code",
      "source": [
        "# Calling BERT based sentiment score function for every tweet\n",
        "sent_list=[]\n",
        "for row in data:\n",
        "  row= str(row)\n",
        "  sent= BERTSentiment(row)\n",
        "  sent_list.append(sent)\n",
        "\n",
        "df['BERT_Sentiment'] = sent_list\n",
        "  "
      ],
      "metadata": {
        "id": "cwACB_VXkku_"
      },
      "execution_count": 33,
      "outputs": []
    },
    {
      "cell_type": "code",
      "source": [
        "#df.to_csv('bert-data')"
      ],
      "metadata": {
        "id": "kBB-h8ekmMTj"
      },
      "execution_count": 18,
      "outputs": []
    },
    {
      "cell_type": "code",
      "source": [
        "sentCounts= df['BERT_Sentiment'].value_counts()"
      ],
      "metadata": {
        "id": "Axl5k9A4vses"
      },
      "execution_count": 34,
      "outputs": []
    },
    {
      "cell_type": "code",
      "source": [
        "\n",
        "# Visualizing the overall sentiment distribution\n",
        "import matplotlib.pyplot as plt\n",
        "fig, subPlot =plt.subplots(nrows=1, ncols=2, figsize=(10,4))\n",
        "fig.suptitle(\"Sentiment analysis of Russia-Ukraine Conflict\")\n",
        " \n",
        "# Grouping the data\n",
        "GroupedData=df.groupby('BERT_Sentiment').size()\n",
        "\n",
        "# Creating the charts\n",
        "GroupedData.plot(kind='bar', ax=subPlot[0])\n",
        "GroupedData.plot(kind='pie', ax=subPlot[1],labels = sentCounts.index, explode = (0, 0.25), autopct='%1.1f%%')\n",
        "\n",
        "#plt.title(\"VADER\")\n",
        "#plt.pie(vader_sentCounts.values, labels = sentCounts.index, explode = (0, 0.25), autopct='%1.1f%%', shadow=False)\n"
      ],
      "metadata": {
        "id": "tjKv8gQ7e-oL"
      },
      "execution_count": null,
      "outputs": []
    }
  ]
}