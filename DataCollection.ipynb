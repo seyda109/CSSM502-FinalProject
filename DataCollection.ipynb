{
  "nbformat": 4,
  "nbformat_minor": 0,
  "metadata": {
    "colab": {
      "provenance": []
    },
    "kernelspec": {
      "name": "python3",
      "display_name": "Python 3"
    },
    "language_info": {
      "name": "python"
    }
  },
  "cells": [
    {
      "cell_type": "code",
      "execution_count": null,
      "metadata": {
        "id": "ZsghZmUtpsVT"
      },
      "outputs": [],
      "source": [
        "#Some necessary installments that will be used later.\n",
        "\n",
        "!pip install snscrape"
      ]
    },
    {
      "cell_type": "code",
      "source": [
        "#importing the libraries that will be of use\n",
        "import pandas as pd\n",
        "import snscrape.modules.twitter as sntwitter\n",
        "\n",
        "\n",
        "\n"
      ],
      "metadata": {
        "id": "JatNUStppzHa"
      },
      "execution_count": 51,
      "outputs": []
    },
    {
      "cell_type": "code",
      "source": [
        "query = '( #ukraineconflict OR #ukrainerussiawar OR #ukraine OR #russiaOR #russiaukrain OR #UkraineWar)'\n",
        "\n",
        "tweets = [] \n",
        "for i, tweet in enumerate(sntwitter.TwitterSearchScraper(query + 'since:2022-02-24 until:2022-12-31 lang:en').get_items()): #getting english tweets shared since 2022-01-01\n",
        "     if i>27000:  # 270000 is the number of tweets that will be collected\n",
        "         break  # when the tweet number is reached, code breaks\n",
        "     else:\n",
        "         tweets.append([tweet.date, tweet.id, tweet.url, tweet.user.username, tweet.user.location, tweet.hashtags, tweet.content, tweet.likeCount, tweet.retweetCount]) \n",
        "df = pd.DataFrame(tweets, columns = ['Date', 'ID', 'url', 'username', 'location',  'hashtags', 'tweet', 'num_of_likes', 'num_of_retweet']) #creating the dataframe \n",
        "df.to_csv('real_data.csv', mode = 'a') #writing dataframe to a csv file"
      ],
      "metadata": {
        "id": "w-z9s0xZp1W8"
      },
      "execution_count": null,
      "outputs": []
    },
    {
      "cell_type": "code",
      "source": [
        "data = df #storing dataframe to another variable"
      ],
      "metadata": {
        "id": "zf2MjFFSiL2r"
      },
      "execution_count": 23,
      "outputs": []
    },
    {
      "cell_type": "code",
      "source": [
        "data= pd.read_csv('real_data.csv', engine='python')"
      ],
      "metadata": {
        "id": "oQhJzRy4sgBY"
      },
      "execution_count": 32,
      "outputs": []
    },
    {
      "cell_type": "markdown",
      "source": [],
      "metadata": {
        "id": "4HFK9iEjsf0S"
      }
    },
    {
      "cell_type": "code",
      "source": [
        "data.head(6) #inpecting first 5 rows of data"
      ],
      "metadata": {
        "id": "7_1N9n6lkKBh"
      },
      "execution_count": null,
      "outputs": []
    },
    {
      "cell_type": "code",
      "source": [
        "data.tail(6) #inspecting last 5 rows of the data"
      ],
      "metadata": {
        "id": "p2TWiyEzpUdH"
      },
      "execution_count": null,
      "outputs": []
    },
    {
      "cell_type": "code",
      "source": [
        "data=data.head(6)"
      ],
      "metadata": {
        "id": "qqyZP1W-s2s7"
      },
      "execution_count": 39,
      "outputs": []
    },
    {
      "cell_type": "code",
      "source": [
        "new =data.loc[:, ~data.columns.isin(['Unnamed: 0','ID', 'url', 'num_of_likes', 'num_of_retweet'])] #excluding some columns"
      ],
      "metadata": {
        "id": "zxzQXF2KjEMI"
      },
      "execution_count": 40,
      "outputs": []
    },
    {
      "cell_type": "code",
      "source": [
        "#!pip install dataframe-image"
      ],
      "metadata": {
        "id": "-AToNEqzlvy9"
      },
      "execution_count": null,
      "outputs": []
    },
    {
      "cell_type": "code",
      "source": [
        "#!apt install chromium-chromedriver"
      ],
      "metadata": {
        "id": "e-DqOxZnnLd4"
      },
      "execution_count": null,
      "outputs": []
    },
    {
      "cell_type": "code",
      "source": [
        "# create an image of dataset\n",
        "import dataframe_image as dfi\n",
        "\n",
        " \n",
        "dfi.export(new, 'dataframe.png')"
      ],
      "metadata": {
        "id": "Z5xq_sgfm_nT"
      },
      "execution_count": 41,
      "outputs": []
    }
  ]
}