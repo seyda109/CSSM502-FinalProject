{
  "nbformat": 4,
  "nbformat_minor": 0,
  "metadata": {
    "colab": {
      "provenance": []
    },
    "kernelspec": {
      "name": "python3",
      "display_name": "Python 3"
    },
    "language_info": {
      "name": "python"
    }
  },
  "cells": [
    {
      "cell_type": "code",
      "execution_count": null,
      "metadata": {
        "id": "ZsghZmUtpsVT",
        "colab": {
          "base_uri": "https://localhost:8080/"
        },
        "outputId": "77073cfe-0edc-42b9-d56d-2f2aa584f8a7"
      },
      "outputs": [
        {
          "output_type": "stream",
          "name": "stdout",
          "text": [
            "Installing collected packages: snscrape\n",
            "Successfully installed snscrape-0.5.0.20230113\n"
          ]
        }
      ],
      "source": [
        "#Some necessary installments that will be used later.\n",
        "\n",
        "!pip install snscrape"
      ]
    },
    {
      "cell_type": "code",
      "source": [
        "#importing the libraries that will be of use\n",
        "import pandas as pd\n",
        "import snscrape.modules.twitter as sntwitter\n",
        "\n",
        "\n",
        "\n"
      ],
      "metadata": {
        "id": "JatNUStppzHa"
      },
      "execution_count": null,
      "outputs": []
    },
    {
      "cell_type": "code",
      "source": [
        "query = '( #ukraineconflict OR #ukrainerussiawar OR #ukraine OR #russiaOR #russiaukrain OR #UkraineWar)'\n",
        "\n",
        "tweets = [] \n",
        "for i, tweet in enumerate(sntwitter.TwitterSearchScraper(query + 'since:2022-02-24 until:2022-12-31').get_items()): #getting english tweets shared since 2022-01-01\n",
        "     if i>270000:  # 270000 is the number of tweets that will be collected\n",
        "         break  # when the tweet number is reached, code breaks\n",
        "     else:\n",
        "         tweets.append([tweet.date, tweet.id, tweet.url, tweet.user.username, tweet.user.location, tweet.hashtags, tweet.lang, tweet.content, tweet.likeCount, tweet.retweetCount]) \n",
        "df = pd.DataFrame(tweets, columns = ['Date', 'ID', 'url', 'username', 'location',  'hashtags', 'language', 'tweet', 'num_of_likes', 'num_of_retweet']) #creating the dataframe \n",
        "df.to_csv('real_data.csv', mode = 'a') #writing dataframe to a csv file"
      ],
      "metadata": {
        "id": "w-z9s0xZp1W8",
        "colab": {
          "base_uri": "https://localhost:8080/"
        },
        "outputId": "abfcf6ea-6029-49b3-848e-aea6c0c50b90"
      },
      "execution_count": null,
      "outputs": [
        {
          "output_type": "stream",
          "name": "stderr",
          "text": [
            "<ipython-input-6-29bf5086b07f>:8: FutureWarning: content is deprecated, use rawContent instead\n",
            "  tweets.append([tweet.date, tweet.id, tweet.url, tweet.user.username, tweet.user.location, tweet.hashtags, tweet.lang, tweet.content, tweet.likeCount, tweet.retweetCount])\n"
          ]
        }
      ]
    },
    {
      "cell_type": "code",
      "source": [
        "data = df #storing dataframe to another variable"
      ],
      "metadata": {
        "id": "zf2MjFFSiL2r"
      },
      "execution_count": null,
      "outputs": []
    },
    {
      "cell_type": "code",
      "source": [
        "data"
      ],
      "metadata": {
        "colab": {
          "base_uri": "https://localhost:8080/",
          "height": 49
        },
        "id": "ABFFILVldkn6",
        "outputId": "8f0355bd-3031-423e-b55b-dc42c36eae24"
      },
      "execution_count": null,
      "outputs": [
        {
          "output_type": "execute_result",
          "data": {
            "text/plain": [
              "Empty DataFrame\n",
              "Columns: [Date, ID, url, username, location, hashtags, tweet, num_of_likes, num_of_retweet]\n",
              "Index: []"
            ],
            "text/html": [
              "\n",
              "  <div id=\"df-c9d18724-4150-462d-a7c9-5d3b9eaf9244\">\n",
              "    <div class=\"colab-df-container\">\n",
              "      <div>\n",
              "<style scoped>\n",
              "    .dataframe tbody tr th:only-of-type {\n",
              "        vertical-align: middle;\n",
              "    }\n",
              "\n",
              "    .dataframe tbody tr th {\n",
              "        vertical-align: top;\n",
              "    }\n",
              "\n",
              "    .dataframe thead th {\n",
              "        text-align: right;\n",
              "    }\n",
              "</style>\n",
              "<table border=\"1\" class=\"dataframe\">\n",
              "  <thead>\n",
              "    <tr style=\"text-align: right;\">\n",
              "      <th></th>\n",
              "      <th>Date</th>\n",
              "      <th>ID</th>\n",
              "      <th>url</th>\n",
              "      <th>username</th>\n",
              "      <th>location</th>\n",
              "      <th>hashtags</th>\n",
              "      <th>tweet</th>\n",
              "      <th>num_of_likes</th>\n",
              "      <th>num_of_retweet</th>\n",
              "    </tr>\n",
              "  </thead>\n",
              "  <tbody>\n",
              "  </tbody>\n",
              "</table>\n",
              "</div>\n",
              "      <button class=\"colab-df-convert\" onclick=\"convertToInteractive('df-c9d18724-4150-462d-a7c9-5d3b9eaf9244')\"\n",
              "              title=\"Convert this dataframe to an interactive table.\"\n",
              "              style=\"display:none;\">\n",
              "        \n",
              "  <svg xmlns=\"http://www.w3.org/2000/svg\" height=\"24px\"viewBox=\"0 0 24 24\"\n",
              "       width=\"24px\">\n",
              "    <path d=\"M0 0h24v24H0V0z\" fill=\"none\"/>\n",
              "    <path d=\"M18.56 5.44l.94 2.06.94-2.06 2.06-.94-2.06-.94-.94-2.06-.94 2.06-2.06.94zm-11 1L8.5 8.5l.94-2.06 2.06-.94-2.06-.94L8.5 2.5l-.94 2.06-2.06.94zm10 10l.94 2.06.94-2.06 2.06-.94-2.06-.94-.94-2.06-.94 2.06-2.06.94z\"/><path d=\"M17.41 7.96l-1.37-1.37c-.4-.4-.92-.59-1.43-.59-.52 0-1.04.2-1.43.59L10.3 9.45l-7.72 7.72c-.78.78-.78 2.05 0 2.83L4 21.41c.39.39.9.59 1.41.59.51 0 1.02-.2 1.41-.59l7.78-7.78 2.81-2.81c.8-.78.8-2.07 0-2.86zM5.41 20L4 18.59l7.72-7.72 1.47 1.35L5.41 20z\"/>\n",
              "  </svg>\n",
              "      </button>\n",
              "      \n",
              "  <style>\n",
              "    .colab-df-container {\n",
              "      display:flex;\n",
              "      flex-wrap:wrap;\n",
              "      gap: 12px;\n",
              "    }\n",
              "\n",
              "    .colab-df-convert {\n",
              "      background-color: #E8F0FE;\n",
              "      border: none;\n",
              "      border-radius: 50%;\n",
              "      cursor: pointer;\n",
              "      display: none;\n",
              "      fill: #1967D2;\n",
              "      height: 32px;\n",
              "      padding: 0 0 0 0;\n",
              "      width: 32px;\n",
              "    }\n",
              "\n",
              "    .colab-df-convert:hover {\n",
              "      background-color: #E2EBFA;\n",
              "      box-shadow: 0px 1px 2px rgba(60, 64, 67, 0.3), 0px 1px 3px 1px rgba(60, 64, 67, 0.15);\n",
              "      fill: #174EA6;\n",
              "    }\n",
              "\n",
              "    [theme=dark] .colab-df-convert {\n",
              "      background-color: #3B4455;\n",
              "      fill: #D2E3FC;\n",
              "    }\n",
              "\n",
              "    [theme=dark] .colab-df-convert:hover {\n",
              "      background-color: #434B5C;\n",
              "      box-shadow: 0px 1px 3px 1px rgba(0, 0, 0, 0.15);\n",
              "      filter: drop-shadow(0px 1px 2px rgba(0, 0, 0, 0.3));\n",
              "      fill: #FFFFFF;\n",
              "    }\n",
              "  </style>\n",
              "\n",
              "      <script>\n",
              "        const buttonEl =\n",
              "          document.querySelector('#df-c9d18724-4150-462d-a7c9-5d3b9eaf9244 button.colab-df-convert');\n",
              "        buttonEl.style.display =\n",
              "          google.colab.kernel.accessAllowed ? 'block' : 'none';\n",
              "\n",
              "        async function convertToInteractive(key) {\n",
              "          const element = document.querySelector('#df-c9d18724-4150-462d-a7c9-5d3b9eaf9244');\n",
              "          const dataTable =\n",
              "            await google.colab.kernel.invokeFunction('convertToInteractive',\n",
              "                                                     [key], {});\n",
              "          if (!dataTable) return;\n",
              "\n",
              "          const docLinkHtml = 'Like what you see? Visit the ' +\n",
              "            '<a target=\"_blank\" href=https://colab.research.google.com/notebooks/data_table.ipynb>data table notebook</a>'\n",
              "            + ' to learn more about interactive tables.';\n",
              "          element.innerHTML = '';\n",
              "          dataTable['output_type'] = 'display_data';\n",
              "          await google.colab.output.renderOutput(dataTable, element);\n",
              "          const docLink = document.createElement('div');\n",
              "          docLink.innerHTML = docLinkHtml;\n",
              "          element.appendChild(docLink);\n",
              "        }\n",
              "      </script>\n",
              "    </div>\n",
              "  </div>\n",
              "  "
            ]
          },
          "metadata": {},
          "execution_count": 5
        }
      ]
    },
    {
      "cell_type": "code",
      "source": [
        "data= pd.read_csv('real_data.csv', engine='python')"
      ],
      "metadata": {
        "id": "oQhJzRy4sgBY"
      },
      "execution_count": null,
      "outputs": []
    },
    {
      "cell_type": "markdown",
      "source": [],
      "metadata": {
        "id": "4HFK9iEjsf0S"
      }
    },
    {
      "cell_type": "code",
      "source": [
        "data.head(6) #inpecting first 5 rows of data"
      ],
      "metadata": {
        "id": "7_1N9n6lkKBh"
      },
      "execution_count": null,
      "outputs": []
    },
    {
      "cell_type": "code",
      "source": [
        "data.tail(6) #inspecting last 5 rows of the data"
      ],
      "metadata": {
        "id": "p2TWiyEzpUdH"
      },
      "execution_count": null,
      "outputs": []
    },
    {
      "cell_type": "code",
      "source": [
        "data=data.head(6)"
      ],
      "metadata": {
        "id": "qqyZP1W-s2s7"
      },
      "execution_count": null,
      "outputs": []
    },
    {
      "cell_type": "code",
      "source": [
        "new =data.loc[:, ~data.columns.isin(['Unnamed: 0','ID', 'url', 'num_of_likes', 'num_of_retweet'])] #excluding some columns"
      ],
      "metadata": {
        "id": "zxzQXF2KjEMI"
      },
      "execution_count": null,
      "outputs": []
    },
    {
      "cell_type": "code",
      "source": [
        "#!pip install dataframe-image"
      ],
      "metadata": {
        "id": "-AToNEqzlvy9"
      },
      "execution_count": null,
      "outputs": []
    },
    {
      "cell_type": "code",
      "source": [
        "#!apt install chromium-chromedriver"
      ],
      "metadata": {
        "id": "e-DqOxZnnLd4"
      },
      "execution_count": null,
      "outputs": []
    },
    {
      "cell_type": "code",
      "source": [
        "# create an image of dataset\n",
        "import dataframe_image as dfi\n",
        "\n",
        " \n",
        "dfi.export(new, 'dataframe.png')"
      ],
      "metadata": {
        "id": "Z5xq_sgfm_nT"
      },
      "execution_count": null,
      "outputs": []
    }
  ]
}